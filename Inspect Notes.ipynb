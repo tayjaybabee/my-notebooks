{
 "cells": [
  {
   "cell_type": "markdown",
   "id": "8c2e6276",
   "metadata": {},
   "source": [
    "## Let's Take a Look at 'Inspect'\n",
    "\n",
    "You can get some pretty cool info from it"
   ]
  },
  {
   "cell_type": "code",
   "execution_count": 7,
   "id": "c4649bfd",
   "metadata": {},
   "outputs": [
    {
     "name": "stdout",
     "output_type": "stream",
     "text": [
      "caller name: <module>\n",
      "_run_module_as_main -> _run_code -> <module> -> launch_instance -> start -> start -> run_forever -> _run_once -> _run -> dispatch_queue -> process_one -> dispatch_shell -> execute_request -> do_execute -> run_cell -> run_cell -> _run_cell -> _pseudo_sync_runner -> run_cell_async -> run_ast_nodes -> run_code -> <module> -> run -> master_caller -> call_it -> call_me -> "
     ]
    }
   ],
   "source": [
    "import inspect\n",
    "\n",
    "def call_me():\n",
    "    curframe = inspect.currentframe()\n",
    "    callframe = inspect.getouterframes(curframe, 2)\n",
    "    callframe.reverse()\n",
    "    print('caller name:', callframe[2][3])\n",
    "    for item in callframe:\n",
    "        print(item[3], end=' -> ')\n",
    "\n",
    "def call_it():\n",
    "    call_me()\n",
    "\n",
    "\n",
    "def master_caller():\n",
    "    call_it()\n",
    "\n",
    "def run():\n",
    "    master_caller()\n",
    "\n",
    "run()"
   ]
  },
  {
   "cell_type": "code",
   "execution_count": 8,
   "id": "a0d9e6b2",
   "metadata": {},
   "outputs": [
    {
     "name": "stdout",
     "output_type": "stream",
     "text": [
      "caller name: <module>\n",
      "_run_module_as_main -> _run_code -> <module> -> launch_instance -> start -> start -> run_forever -> _run_once -> _run -> dispatch_queue -> process_one -> dispatch_shell -> execute_request -> do_execute -> run_cell -> run_cell -> _run_cell -> _pseudo_sync_runner -> run_cell_async -> run_ast_nodes -> run_code -> <module> -> call_me -> "
     ]
    }
   ],
   "source": [
    "call_me()"
   ]
  },
  {
   "cell_type": "code",
   "execution_count": null,
   "id": "64d9e560",
   "metadata": {},
   "outputs": [],
   "source": []
  }
 ],
 "metadata": {
  "kernelspec": {
   "display_name": "Python 3 (ipykernel)",
   "language": "python",
   "name": "python3"
  },
  "language_info": {
   "codemirror_mode": {
    "name": "ipython",
    "version": 3
   },
   "file_extension": ".py",
   "mimetype": "text/x-python",
   "name": "python",
   "nbconvert_exporter": "python",
   "pygments_lexer": "ipython3",
   "version": "3.9.7"
  }
 },
 "nbformat": 4,
 "nbformat_minor": 5
}
